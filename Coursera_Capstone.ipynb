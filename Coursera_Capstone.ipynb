{
 "cells": [
  {
   "cell_type": "markdown",
   "metadata": {},
   "source": [
    "# IBM Coursera Data Science Capstone"
   ]
  },
  {
   "cell_type": "markdown",
   "metadata": {},
   "source": [
    "This is the final project for IBM's Data Science Specialization. There has been 8 courses plus this Capstone:\n",
    "\n",
    "    1. What is Data Science?\n",
    "    \n",
    "    2.Open Source tools for Data Science\n",
    "\n",
    "    3. Data Science Methodology\n",
    "\n",
    "    4. Python for Data Science and AI\n",
    "\n",
    "    5. Databases and SQL for Data Science\n",
    "\n",
    "    6. Data Analysis with Python\n",
    "\n",
    "    7. Data Visualization with Python\n",
    "\n",
    "    8. Machine Learning with Python\n",
    "\n",
    "    9. Applied Data Science Capstone\n",
    "    \n",
    "Initially we will be importing a few libraries and post a greeting."
   ]
  },
  {
   "cell_type": "code",
   "execution_count": 1,
   "metadata": {},
   "outputs": [],
   "source": [
    "import pandas as pd\n",
    "import numpy as np"
   ]
  },
  {
   "cell_type": "code",
   "execution_count": 2,
   "metadata": {},
   "outputs": [
    {
     "name": "stdout",
     "output_type": "stream",
     "text": [
      "Hello Capstone Project Course!\n"
     ]
    }
   ],
   "source": [
    "print(\"Hello Capstone Project Course!\")"
   ]
  },
  {
   "cell_type": "code",
   "execution_count": null,
   "metadata": {},
   "outputs": [],
   "source": []
  }
 ],
 "metadata": {
  "kernelspec": {
   "display_name": "Python 3",
   "language": "python",
   "name": "python3"
  },
  "language_info": {
   "codemirror_mode": {
    "name": "ipython",
    "version": 3
   },
   "file_extension": ".py",
   "mimetype": "text/x-python",
   "name": "python",
   "nbconvert_exporter": "python",
   "pygments_lexer": "ipython3",
   "version": "3.7.4"
  }
 },
 "nbformat": 4,
 "nbformat_minor": 2
}
